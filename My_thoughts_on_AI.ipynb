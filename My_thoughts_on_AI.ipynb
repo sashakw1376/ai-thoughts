{
  "nbformat": 4,
  "nbformat_minor": 0,
  "metadata": {
    "colab": {
      "provenance": [],
      "authorship_tag": "ABX9TyPrfhjOaYqIAb7XYX+WiF/y"
    },
    "kernelspec": {
      "name": "python3",
      "display_name": "Python 3"
    },
    "language_info": {
      "name": "python"
    }
  },
  "cells": [
    {
      "cell_type": "markdown",
      "source": [
        "Things I want to do with AI:\n",
        "* Have fun\n",
        "* Make people happy"
      ],
      "metadata": {
        "id": "QbF6DnqTPwDB"
      }
    },
    {
      "cell_type": "code",
      "execution_count": null,
      "metadata": {
        "id": "NXBEcWn-Pbxr"
      },
      "outputs": [],
      "source": []
    }
  ]
}